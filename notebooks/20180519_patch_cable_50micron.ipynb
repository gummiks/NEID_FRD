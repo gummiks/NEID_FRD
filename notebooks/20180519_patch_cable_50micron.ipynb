{
 "cells": [
  {
   "cell_type": "code",
   "execution_count": 1,
   "metadata": {
    "collapsed": false,
    "deletable": true,
    "editable": true
   },
   "outputs": [
    {
     "name": "stdout",
     "output_type": "stream",
     "text": [
      "Already removed\n"
     ]
    }
   ],
   "source": [
    "from __future__ import print_function\n",
    "import pandas as pd\n",
    "import numpy as np\n",
    "import datetime\n",
    "import matplotlib.dates as mdates\n",
    "\n",
    "# ---------- Graphics ------------\n",
    "# matplotlib\n",
    "import seaborn as sns; sns.set()\n",
    "sns.set_context(\"poster\",font_scale=1.2,rc={\"font\":\"helvetica\"});\n",
    "sns.set_style(\"white\"); #sns.set_style(\"ticks\")\n",
    "cp = sns.color_palette(\"colorblind\") #sns.palplot(current_palette)\n",
    "%matplotlib inline\n",
    "%config InlineBackend.figure_format = \"retina\"\n",
    "import matplotlib.pyplot as plt\n",
    "from matplotlib import rcParams\n",
    "rcParams[\"savefig.dpi\"] = 100\n",
    "rcParams['mathtext.fontset'] = 'stix'\n",
    "rcParams['font.family'] = 'STIXGeneral'\n",
    "rcParams['font.weight'] = \"normal\"\n",
    "rcParams[\"axes.formatter.useoffset\"] = False\n",
    "rcParams['xtick.major.width']=1\n",
    "rcParams['xtick.major.size']=4\n",
    "rcParams['xtick.minor.width']=0.5\n",
    "rcParams['xtick.minor.size']=2\n",
    "rcParams['xtick.direction'] = \"in\"\n",
    "rcParams['ytick.direction'] = \"in\"\n",
    "rcParams['ytick.major.width']=1\n",
    "rcParams['ytick.major.size']=4\n",
    "rcParams['ytick.minor.width']=0.5\n",
    "rcParams['ytick.minor.size']=2\n",
    "\n",
    "import sys\n",
    "sys.path.append(\"../src/\")\n",
    "try:\n",
    "    sys.path.remove('/Users/gks/Dropbox/mypylib')\n",
    "    sys.path.remove('/Users/gks/Dropbox/mypylib/GIT')\n",
    "except Exception as e:\n",
    "    print('Already removed')"
   ]
  },
  {
   "cell_type": "code",
   "execution_count": 2,
   "metadata": {
    "collapsed": false,
    "deletable": true,
    "editable": true
   },
   "outputs": [],
   "source": [
    "import utils\n",
    "from frdimg import FRDImg, AnalyzeFRDImages\n",
    "from frdimg_help import add_y_in_input, resample_df_mean, resample_df_mean, get_EE_from_rad_in_pix"
   ]
  },
  {
   "cell_type": "code",
   "execution_count": 5,
   "metadata": {
    "collapsed": true,
    "deletable": true,
    "editable": true
   },
   "outputs": [],
   "source": [
    "import glob\n",
    "from utils import filter_dates\n",
    "\n",
    "# Folders\n",
    "BASEFOLDER       = \"C:/Users/szk381/Downloads/20180521_patch_circ2_50um_polished-20180602T140353Z-001/20180521_patch_circ2_50um_polished/\"\n",
    "FOLDER_CSV_SETUP = BASEFOLDER+\"ANALYSIS/CSV_SETUP/\"\n",
    "FOLDER_CSV_SAVE  = BASEFOLDER+\"ANALYSIS/CSV_RESULTS/\"\n",
    "PLOT_FOLDER      = BASEFOLDER+\"ANALYSIS/PLOTS/\"\n",
    "\n",
    "# Files\n",
    "setup_csv_files  = sorted(glob.glob(FOLDER_CSV_SETUP+\"*.csv\"))\n",
    "#fitsfiles_f01    = glob.glob(BASEFOLDER+\"f01/pipelineout/*.fits\")\n",
    "#fitsfiles_f02    = glob.glob(BASEFOLDER+\"f02/pipelineout/*.fits\")\n",
    "#fitsfiles_f03    = glob.glob(BASEFOLDER+\"f03/pipelineout/*.fits\")\n",
    "fitsfiles_f01    = glob.glob(BASEFOLDER+\"f01/*.fits\")\n",
    "#fitsfiles_f02    = glob.glob(BASEFOLDER+\"f02/*.fits\")\n",
    "#fitsfiles_f03    = glob.glob(BASEFOLDER+\"f03/*.fits\")\n",
    "#fitsfiles_f04    = glob.glob(BASEFOLDER+\"f04/*.fits\")\n",
    "#fitsfiles_f05    = glob.glob(BASEFOLDER+\"f05/*.fits\")\n",
    "#fitsfiles_f06    = glob.glob(BASEFOLDER+\"f06/*.fits\")\n",
    "#fitsfiles_f07    = glob.glob(BASEFOLDER+\"f07/*.fits\")\n",
    "#fitsfiles_f08    = glob.glob(BASEFOLDER+\"f08/*.fits\")\n",
    "#fitsfiles_f09    = glob.glob(BASEFOLDER+\"f09/*.fits\")\n",
    "#fitsfiles_f10    = glob.glob(BASEFOLDER+\"f10/*.fits\")"
   ]
  },
  {
   "cell_type": "code",
   "execution_count": 6,
   "metadata": {
    "collapsed": false,
    "deletable": true,
    "editable": true
   },
   "outputs": [
    {
     "data": {
      "text/plain": [
       "['C:/Users/szk381/Downloads/20180521_patch_circ2_50um_polished-20180602T140353Z-001/20180521_patch_circ2_50um_polished/ANALYSIS/CSV_SETUP\\\\setup_f01.csv',\n",
       " 'C:/Users/szk381/Downloads/20180521_patch_circ2_50um_polished-20180602T140353Z-001/20180521_patch_circ2_50um_polished/ANALYSIS/CSV_SETUP\\\\setup_f02.csv',\n",
       " 'C:/Users/szk381/Downloads/20180521_patch_circ2_50um_polished-20180602T140353Z-001/20180521_patch_circ2_50um_polished/ANALYSIS/CSV_SETUP\\\\setup_f03.csv',\n",
       " 'C:/Users/szk381/Downloads/20180521_patch_circ2_50um_polished-20180602T140353Z-001/20180521_patch_circ2_50um_polished/ANALYSIS/CSV_SETUP\\\\setup_f04.csv']"
      ]
     },
     "execution_count": 6,
     "metadata": {},
     "output_type": "execute_result"
    }
   ],
   "source": [
    "setup_csv_files"
   ]
  },
  {
   "cell_type": "code",
   "execution_count": 7,
   "metadata": {
    "collapsed": true,
    "deletable": true,
    "editable": true
   },
   "outputs": [],
   "source": [
    "import matplotlib.pyplot as plt\n",
    "plt.switch_backend(\"agg\")\n",
    "fig, ax= plt.subplots()"
   ]
  },
  {
   "cell_type": "code",
   "execution_count": 8,
   "metadata": {
    "collapsed": false,
    "deletable": true,
    "editable": true
   },
   "outputs": [
    {
     "name": "stdout",
     "output_type": "stream",
     "text": [
      "C:/Users/szk381/Downloads/20180521_patch_circ2_50um_polished-20180602T140353Z-001/20180521_patch_circ2_50um_polished/ANALYSIS/CSV_RESULTS/ already exists. Skipping\n",
      "Trimming problematic first row !\n",
      "('Analyzing file #', 0, 'C:/Users/szk381/Downloads/20180521_patch_circ2_50um_polished-20180602T140353Z-001/20180521_patch_circ2_50um_polished/f01\\\\f_psm_01_d_01.fits')\n",
      "C:/Users/szk381/Downloads/20180521_patch_circ2_50um_polished-20180602T140353Z-001/20180521_patch_circ2_50um_polished/ANALYSIS/PLOTS/ already exists. Skipping\n",
      "('Centroids', 498.8688740127232, 472.3508055121418)\n"
     ]
    },
    {
     "ename": "AttributeError",
     "evalue": "'module' object has no attribute 'SigmaClip'",
     "output_type": "error",
     "traceback": [
      "\u001b[1;31m\u001b[0m",
      "\u001b[1;31mAttributeError\u001b[0mTraceback (most recent call last)",
      "\u001b[1;32m<ipython-input-8-6245da662fdc>\u001b[0m in \u001b[0;36m<module>\u001b[1;34m()\u001b[0m\n\u001b[0;32m      7\u001b[0m                            \u001b[0mMAXRAD_FACTOR\u001b[0m\u001b[1;33m=\u001b[0m\u001b[1;36m0.56\u001b[0m\u001b[1;33m,\u001b[0m\u001b[1;33m\u001b[0m\u001b[0m\n\u001b[0;32m      8\u001b[0m                            fwzm_z=200.)\n\u001b[1;32m----> 9\u001b[1;33m \u001b[0mAFRDImg\u001b[0m\u001b[1;33m.\u001b[0m\u001b[0manalyze_all_frames\u001b[0m\u001b[1;33m(\u001b[0m\u001b[1;33m)\u001b[0m\u001b[1;33m\u001b[0m\u001b[0m\n\u001b[0m",
      "\u001b[1;32mc:\\users\\szk381\\documents\\github\\neid_frd\\src\\frdimg.pyc\u001b[0m in \u001b[0;36manalyze_all_frames\u001b[1;34m(self)\u001b[0m\n\u001b[0;32m    276\u001b[0m                     \u001b[0mplot_folder\u001b[0m\u001b[1;33m=\u001b[0m\u001b[0mself\u001b[0m\u001b[1;33m.\u001b[0m\u001b[0mplot_folder\u001b[0m\u001b[1;33m,\u001b[0m\u001b[1;33m\u001b[0m\u001b[0m\n\u001b[0;32m    277\u001b[0m                     \u001b[0mfwzm_z\u001b[0m\u001b[1;33m=\u001b[0m\u001b[0mself\u001b[0m\u001b[1;33m.\u001b[0m\u001b[0mfwzm_z\u001b[0m\u001b[1;33m,\u001b[0m\u001b[1;33m\u001b[0m\u001b[0m\n\u001b[1;32m--> 278\u001b[1;33m                     force_max_radii_to_390=self.force_max_radii_to_390);\n\u001b[0m\u001b[0;32m    279\u001b[0m             \u001b[1;32mprint\u001b[0m\u001b[1;33m(\u001b[0m\u001b[1;34m\"Radii at EE:\"\u001b[0m\u001b[1;33m,\u001b[0m\u001b[0mfrd\u001b[0m\u001b[1;33m.\u001b[0m\u001b[0mr_ee\u001b[0m\u001b[1;33m)\u001b[0m\u001b[1;33m\u001b[0m\u001b[0m\n\u001b[0;32m    280\u001b[0m             \u001b[0mself\u001b[0m\u001b[1;33m.\u001b[0m\u001b[0mradii_at_EE\u001b[0m\u001b[1;33m[\u001b[0m\u001b[0mi\u001b[0m\u001b[1;33m]\u001b[0m \u001b[1;33m=\u001b[0m \u001b[0mfrd\u001b[0m\u001b[1;33m.\u001b[0m\u001b[0mr_ee\u001b[0m\u001b[1;33m\u001b[0m\u001b[0m\n",
      "\u001b[1;32mc:\\users\\szk381\\documents\\github\\neid_frd\\src\\frdimg.pyc\u001b[0m in \u001b[0;36mrun\u001b[1;34m(self, plot_suffix, plot_folder, get_rad_at_EE, MAXRAD_FACTOR, fwzm_z, use_azimuthal_averaging, force_max_radii_to_390)\u001b[0m\n\u001b[0;32m     70\u001b[0m         \u001b[1;32mprint\u001b[0m\u001b[1;33m(\u001b[0m\u001b[1;34m\"Centroids\"\u001b[0m\u001b[1;33m,\u001b[0m\u001b[0mx\u001b[0m\u001b[1;33m,\u001b[0m\u001b[0my\u001b[0m\u001b[1;33m)\u001b[0m\u001b[1;33m\u001b[0m\u001b[0m\n\u001b[0;32m     71\u001b[0m         \u001b[0mCBS\u001b[0m \u001b[1;33m=\u001b[0m \u001b[0mphothelp\u001b[0m\u001b[1;33m.\u001b[0m\u001b[0mCircularBackgroundSubractor\u001b[0m\u001b[1;33m(\u001b[0m\u001b[0mself\u001b[0m\u001b[1;33m.\u001b[0m\u001b[0mfimg\u001b[0m\u001b[1;33m.\u001b[0m\u001b[0mdata\u001b[0m\u001b[1;33m,\u001b[0m\u001b[0mx\u001b[0m\u001b[1;33m=\u001b[0m\u001b[0mx\u001b[0m\u001b[1;33m,\u001b[0m\u001b[0my\u001b[0m\u001b[1;33m=\u001b[0m\u001b[0my\u001b[0m\u001b[1;33m,\u001b[0m\u001b[0mr\u001b[0m\u001b[1;33m=\u001b[0m\u001b[1;36m400\u001b[0m\u001b[1;33m)\u001b[0m\u001b[1;33m\u001b[0m\u001b[0m\n\u001b[1;32m---> 72\u001b[1;33m         \u001b[0mdata_back_sub\u001b[0m \u001b[1;33m=\u001b[0m \u001b[0mCBS\u001b[0m\u001b[1;33m.\u001b[0m\u001b[0msubtract_background\u001b[0m\u001b[1;33m(\u001b[0m\u001b[0mplot_background\u001b[0m\u001b[1;33m=\u001b[0m\u001b[0mTrue\u001b[0m\u001b[1;33m,\u001b[0m\u001b[0max\u001b[0m\u001b[1;33m=\u001b[0m\u001b[0max_img_bkg\u001b[0m\u001b[1;33m)\u001b[0m\u001b[1;33m\u001b[0m\u001b[0m\n\u001b[0m\u001b[0;32m     73\u001b[0m         \u001b[0mself\u001b[0m\u001b[1;33m.\u001b[0m\u001b[0msubtracted_value\u001b[0m \u001b[1;33m=\u001b[0m \u001b[0mCBS\u001b[0m\u001b[1;33m.\u001b[0m\u001b[0msubtracted_value\u001b[0m\u001b[1;33m\u001b[0m\u001b[0m\n\u001b[0;32m     74\u001b[0m \u001b[1;33m\u001b[0m\u001b[0m\n",
      "\u001b[1;32mc:\\users\\szk381\\documents\\github\\neid_frd\\src\\phothelp.py\u001b[0m in \u001b[0;36msubtract_background\u001b[1;34m(self, subtract_min_value, plot_background, ax)\u001b[0m\n\u001b[0;32m     38\u001b[0m \u001b[1;33m\u001b[0m\u001b[0m\n\u001b[0;32m     39\u001b[0m         \u001b[1;31m# use sigma clipping\u001b[0m\u001b[1;33m\u001b[0m\u001b[1;33m\u001b[0m\u001b[0m\n\u001b[1;32m---> 40\u001b[1;33m         \u001b[0msigma_clip\u001b[0m \u001b[1;33m=\u001b[0m \u001b[0mphotutils\u001b[0m\u001b[1;33m.\u001b[0m\u001b[0mSigmaClip\u001b[0m\u001b[1;33m(\u001b[0m\u001b[0msigma\u001b[0m\u001b[1;33m=\u001b[0m\u001b[1;36m3.\u001b[0m\u001b[1;33m,\u001b[0m \u001b[0miters\u001b[0m\u001b[1;33m=\u001b[0m\u001b[1;36m10\u001b[0m\u001b[1;33m)\u001b[0m\u001b[1;33m\u001b[0m\u001b[0m\n\u001b[0m\u001b[0;32m     41\u001b[0m \u001b[1;33m\u001b[0m\u001b[0m\n\u001b[0;32m     42\u001b[0m         \u001b[0mbkg_estimator\u001b[0m \u001b[1;33m=\u001b[0m \u001b[0mphotutils\u001b[0m\u001b[1;33m.\u001b[0m\u001b[0mMedianBackground\u001b[0m\u001b[1;33m(\u001b[0m\u001b[1;33m)\u001b[0m\u001b[1;33m\u001b[0m\u001b[0m\n",
      "\u001b[1;31mAttributeError\u001b[0m: 'module' object has no attribute 'SigmaClip'"
     ]
    }
   ],
   "source": [
    "AFRDImg = AnalyzeFRDImages(fitsfiles=sorted(fitsfiles_f01)[0:2],\n",
    "                           plot_suffix=\"f01\",\n",
    "                           plot_folder=PLOT_FOLDER,\n",
    "                           setup_csv_file=setup_csv_files[0],\n",
    "                           FOLDER_CSV_SAVE=FOLDER_CSV_SAVE,\n",
    "                           motorized=True,\n",
    "                           MAXRAD_FACTOR=0.56,\n",
    "                           fwzm_z=200.)\n",
    "AFRDImg.analyze_all_frames()"
   ]
  },
  {
   "cell_type": "code",
   "execution_count": null,
   "metadata": {
    "collapsed": true,
    "deletable": true,
    "editable": true
   },
   "outputs": [],
   "source": []
  },
  {
   "cell_type": "code",
   "execution_count": null,
   "metadata": {
    "collapsed": true,
    "deletable": true,
    "editable": true
   },
   "outputs": [],
   "source": []
  }
 ],
 "metadata": {
  "anaconda-cloud": {},
  "kernelspec": {
   "display_name": "Python 2",
   "language": "python",
   "name": "python2"
  },
  "language_info": {
   "codemirror_mode": {
    "name": "ipython",
    "version": 2
   },
   "file_extension": ".py",
   "mimetype": "text/x-python",
   "name": "python",
   "nbconvert_exporter": "python",
   "pygments_lexer": "ipython2",
   "version": "2.7.13"
  }
 },
 "nbformat": 4,
 "nbformat_minor": 2
}
