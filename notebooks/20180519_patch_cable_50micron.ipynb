{
 "cells": [
  {
   "cell_type": "code",
   "execution_count": 1,
   "metadata": {},
   "outputs": [
    {
     "name": "stdout",
     "output_type": "stream",
     "text": [
      "Already removed\n"
     ]
    }
   ],
   "source": [
    "from __future__ import print_function\n",
    "import pandas as pd\n",
    "import numpy as np\n",
    "import datetime\n",
    "import matplotlib.dates as mdates\n",
    "\n",
    "# ---------- Graphics ------------\n",
    "# matplotlib\n",
    "import seaborn as sns; sns.set()\n",
    "sns.set_context(\"poster\",font_scale=1.2,rc={\"font\":\"helvetica\"});\n",
    "sns.set_style(\"white\"); #sns.set_style(\"ticks\")\n",
    "cp = sns.color_palette(\"colorblind\") #sns.palplot(current_palette)\n",
    "%matplotlib inline\n",
    "%config InlineBackend.figure_format = \"retina\"\n",
    "import matplotlib.pyplot as plt\n",
    "from matplotlib import rcParams\n",
    "rcParams[\"savefig.dpi\"] = 100\n",
    "rcParams['mathtext.fontset'] = 'stix'\n",
    "rcParams['font.family'] = 'STIXGeneral'\n",
    "rcParams['font.weight'] = \"normal\"\n",
    "rcParams[\"axes.formatter.useoffset\"] = False\n",
    "rcParams['xtick.major.width']=1\n",
    "rcParams['xtick.major.size']=4\n",
    "rcParams['xtick.minor.width']=0.5\n",
    "rcParams['xtick.minor.size']=2\n",
    "rcParams['xtick.direction'] = \"in\"\n",
    "rcParams['ytick.direction'] = \"in\"\n",
    "rcParams['ytick.major.width']=1\n",
    "rcParams['ytick.major.size']=4\n",
    "rcParams['ytick.minor.width']=0.5\n",
    "rcParams['ytick.minor.size']=2\n",
    "\n",
    "import sys\n",
    "sys.path.append(\"../src/\")\n",
    "try:\n",
    "    sys.path.remove('/Users/gks/Dropbox/mypylib')\n",
    "    sys.path.remove('/Users/gks/Dropbox/mypylib/GIT')\n",
    "except Exception as e:\n",
    "    print('Already removed')"
   ]
  },
  {
   "cell_type": "code",
   "execution_count": 2,
   "metadata": {},
   "outputs": [],
   "source": [
    "import utils\n",
    "from frdimg import FRDImg, AnalyzeFRDImages\n",
    "from frdimg_help import add_y_in_input, resample_df_mean, resample_df_mean, get_EE_from_rad_in_pix"
   ]
  },
  {
   "cell_type": "code",
   "execution_count": 3,
   "metadata": {},
   "outputs": [],
   "source": [
    "import glob\n",
    "from utils import filter_dates\n",
    "\n",
    "# Folders\n",
    "BASEFOLDER       = \"/Users/gks/Dropbox/mypylib/data/NEID_FRD/20180519_patch_circ1_50um/\"\n",
    "FOLDER_CSV_SETUP = BASEFOLDER+\"ANALYSIS/CSV_SETUP/\"\n",
    "FOLDER_CSV_SAVE  = BASEFOLDER+\"ANALYSIS/CSV_RESULTS/\"\n",
    "PLOT_FOLDER      = BASEFOLDER+\"ANALYSIS/PLOTS/\"\n",
    "\n",
    "# Files\n",
    "setup_csv_files  = sorted(glob.glob(FOLDER_CSV_SETUP+\"*.csv\"))\n",
    "#fitsfiles_f01    = glob.glob(BASEFOLDER+\"f01/pipelineout/*.fits\")\n",
    "#fitsfiles_f02    = glob.glob(BASEFOLDER+\"f02/pipelineout/*.fits\")\n",
    "#fitsfiles_f03    = glob.glob(BASEFOLDER+\"f03/pipelineout/*.fits\")\n",
    "fitsfiles_f01    = glob.glob(BASEFOLDER+\"f01/*.fits\")\n",
    "#fitsfiles_f02    = glob.glob(BASEFOLDER+\"f02/*.fits\")\n",
    "#fitsfiles_f03    = glob.glob(BASEFOLDER+\"f03/*.fits\")\n",
    "#fitsfiles_f04    = glob.glob(BASEFOLDER+\"f04/*.fits\")\n",
    "#fitsfiles_f05    = glob.glob(BASEFOLDER+\"f05/*.fits\")\n",
    "#fitsfiles_f06    = glob.glob(BASEFOLDER+\"f06/*.fits\")\n",
    "#fitsfiles_f07    = glob.glob(BASEFOLDER+\"f07/*.fits\")\n",
    "#fitsfiles_f08    = glob.glob(BASEFOLDER+\"f08/*.fits\")\n",
    "#fitsfiles_f09    = glob.glob(BASEFOLDER+\"f09/*.fits\")\n",
    "#fitsfiles_f10    = glob.glob(BASEFOLDER+\"f10/*.fits\")"
   ]
  },
  {
   "cell_type": "code",
   "execution_count": 4,
   "metadata": {},
   "outputs": [
    {
     "data": {
      "text/plain": [
       "['/Users/gks/Dropbox/mypylib/data/NEID_FRD/20180519_patch_circ1_50um/ANALYSIS/CSV_SETUP/setup_f01.csv',\n",
       " '/Users/gks/Dropbox/mypylib/data/NEID_FRD/20180519_patch_circ1_50um/ANALYSIS/CSV_SETUP/setup_f02.csv',\n",
       " '/Users/gks/Dropbox/mypylib/data/NEID_FRD/20180519_patch_circ1_50um/ANALYSIS/CSV_SETUP/setup_f03.csv',\n",
       " '/Users/gks/Dropbox/mypylib/data/NEID_FRD/20180519_patch_circ1_50um/ANALYSIS/CSV_SETUP/setup_f04.csv']"
      ]
     },
     "execution_count": 4,
     "metadata": {},
     "output_type": "execute_result"
    }
   ],
   "source": [
    "setup_csv_files"
   ]
  },
  {
   "cell_type": "code",
   "execution_count": 5,
   "metadata": {},
   "outputs": [],
   "source": [
    "import matplotlib.pyplot as plt\n",
    "plt.switch_backend(\"agg\")\n",
    "fig, ax= plt.subplots()"
   ]
  },
  {
   "cell_type": "code",
   "execution_count": 6,
   "metadata": {},
   "outputs": [
    {
     "name": "stdout",
     "output_type": "stream",
     "text": [
      "/Users/gks/Dropbox/mypylib/data/NEID_FRD/20180519_patch_circ1_50um/ANALYSIS/CSV_RESULTS/ already exists. Skipping\n",
      "Trimming problematic first row !\n",
      "('Analyzing file #', 0, '/Users/gks/Dropbox/mypylib/data/NEID_FRD/20180519_patch_circ1_50um/f01/f_psm_01_d_01.fits')\n",
      "/Users/gks/Dropbox/mypylib/data/NEID_FRD/20180519_patch_circ1_50um/ANALYSIS/PLOTS/ already exists. Skipping\n",
      "('Centroids', 513.0108117283415, 519.6682187848589)\n",
      "Subtracted min value: -99.4635038781289\n",
      "Using azimuthal averaging\n",
      "Calculating radial data\n",
      "Calculating radial data using centroid: 513.0241836622989 519.6979458740853\n",
      "Subtracting min value from azimuthal average 95.0876809656949\n",
      "HWZM [365.39353011]\n",
      "('Saved file:', '/Users/gks/Dropbox/mypylib/data/NEID_FRD/20180519_patch_circ1_50um/ANALYSIS/PLOTS/f_psm_01_d_01.fits_f01.png')\n",
      "('Saved file:', '/Users/gks/Dropbox/mypylib/data/NEID_FRD/20180519_patch_circ1_50um/ANALYSIS/PLOTS/f_psm_01_d_01.fits_f01.csv')\n",
      "('Radii at EE:', 321.0)\n",
      "('Saved backup to', '/Users/gks/Dropbox/mypylib/data/NEID_FRD/20180519_patch_circ1_50um/ANALYSIS/CSV_RESULTS/f01_radii_fwhm_subtracted.npz')\n",
      "('FWHM', array([409.24075372]))\n",
      "\n",
      "Trimming problematic first row !\n",
      "('Analyzing file #', 1, '/Users/gks/Dropbox/mypylib/data/NEID_FRD/20180519_patch_circ1_50um/f01/f_psm_01_d_02.fits')\n",
      "/Users/gks/Dropbox/mypylib/data/NEID_FRD/20180519_patch_circ1_50um/ANALYSIS/PLOTS/ already exists. Skipping\n",
      "('Centroids', 518.8070288567855, 515.960978521661)\n",
      "Subtracted min value: -95.88676968457958\n",
      "Using azimuthal averaging\n",
      "Calculating radial data\n",
      "Calculating radial data using centroid: 518.8146073804091 515.9937531563861\n",
      "Subtracting min value from azimuthal average 89.6585339450362\n",
      "HWZM [382.79009977]\n",
      "('Saved file:', '/Users/gks/Dropbox/mypylib/data/NEID_FRD/20180519_patch_circ1_50um/ANALYSIS/PLOTS/f_psm_01_d_02.fits_f01.png')\n",
      "('Saved file:', '/Users/gks/Dropbox/mypylib/data/NEID_FRD/20180519_patch_circ1_50um/ANALYSIS/PLOTS/f_psm_01_d_02.fits_f01.csv')\n",
      "('Radii at EE:', 337.0)\n",
      "('Saved backup to', '/Users/gks/Dropbox/mypylib/data/NEID_FRD/20180519_patch_circ1_50um/ANALYSIS/CSV_RESULTS/f01_radii_fwhm_subtracted.npz')\n",
      "('FWHM', array([428.72491174]))\n",
      "\n",
      "('LINE', array([8.02482186, 8.02482186]))\n",
      "('Saved to:', '/Users/gks/Dropbox/mypylib/data/NEID_FRD/20180519_patch_circ1_50um/ANALYSIS/CSV_RESULTS/df_config_setup_f01.csv')\n"
     ]
    },
    {
     "name": "stderr",
     "output_type": "stream",
     "text": [
      "../src/frdimg.py:215: RuntimeWarning: invalid value encountered in divide\n",
      "  df[\"f_ratio_out\"] = df[\"x_out_fiber_dist_delta\"].values/(2.*df[\"y_out_fiber_dist_delta\"].values)\n"
     ]
    },
    {
     "data": {
      "text/html": [
       "<div>\n",
       "<style scoped>\n",
       "    .dataframe tbody tr th:only-of-type {\n",
       "        vertical-align: middle;\n",
       "    }\n",
       "\n",
       "    .dataframe tbody tr th {\n",
       "        vertical-align: top;\n",
       "    }\n",
       "\n",
       "    .dataframe thead th {\n",
       "        text-align: right;\n",
       "    }\n",
       "</style>\n",
       "<table border=\"1\" class=\"dataframe\">\n",
       "  <thead>\n",
       "    <tr style=\"text-align: right;\">\n",
       "      <th></th>\n",
       "      <th>filename</th>\n",
       "      <th>x_out_fiber_dist</th>\n",
       "      <th>x_out_fiber_dist_delta</th>\n",
       "      <th>exptime</th>\n",
       "      <th>iris_diam_perc</th>\n",
       "      <th>radii_at_EE</th>\n",
       "      <th>sub_values</th>\n",
       "      <th>y_out_fiber_dist</th>\n",
       "      <th>y_out_fiber_dist_delta</th>\n",
       "      <th>f_ratio_out</th>\n",
       "      <th>iris</th>\n",
       "      <th>f_ratio_in</th>\n",
       "    </tr>\n",
       "  </thead>\n",
       "  <tbody>\n",
       "    <tr>\n",
       "      <th>0</th>\n",
       "      <td>f_psm_01_d_01.fits</td>\n",
       "      <td>32.0</td>\n",
       "      <td>0.0</td>\n",
       "      <td>1.31</td>\n",
       "      <td>18.0</td>\n",
       "      <td>321.0</td>\n",
       "      <td>-99.463504</td>\n",
       "      <td>4.173</td>\n",
       "      <td>0.000</td>\n",
       "      <td>NaN</td>\n",
       "      <td>8.024822</td>\n",
       "      <td>2.492267</td>\n",
       "    </tr>\n",
       "    <tr>\n",
       "      <th>1</th>\n",
       "      <td>f_psm_01_d_02.fits</td>\n",
       "      <td>31.0</td>\n",
       "      <td>1.0</td>\n",
       "      <td>1.43</td>\n",
       "      <td>18.0</td>\n",
       "      <td>337.0</td>\n",
       "      <td>-95.886770</td>\n",
       "      <td>4.381</td>\n",
       "      <td>0.208</td>\n",
       "      <td>2.403846</td>\n",
       "      <td>8.024822</td>\n",
       "      <td>2.492267</td>\n",
       "    </tr>\n",
       "  </tbody>\n",
       "</table>\n",
       "</div>"
      ],
      "text/plain": [
       "             filename  x_out_fiber_dist  x_out_fiber_dist_delta  exptime  \\\n",
       "0  f_psm_01_d_01.fits              32.0                     0.0     1.31   \n",
       "1  f_psm_01_d_02.fits              31.0                     1.0     1.43   \n",
       "\n",
       "   iris_diam_perc  radii_at_EE  sub_values  y_out_fiber_dist  \\\n",
       "0            18.0        321.0  -99.463504             4.173   \n",
       "1            18.0        337.0  -95.886770             4.381   \n",
       "\n",
       "   y_out_fiber_dist_delta  f_ratio_out      iris  f_ratio_in  \n",
       "0                   0.000          NaN  8.024822    2.492267  \n",
       "1                   0.208     2.403846  8.024822    2.492267  "
      ]
     },
     "execution_count": 6,
     "metadata": {},
     "output_type": "execute_result"
    }
   ],
   "source": [
    "AFRDImg = AnalyzeFRDImages(fitsfiles=sorted(fitsfiles_f01)[0:2],\n",
    "                           plot_suffix=\"f01\",\n",
    "                           plot_folder=PLOT_FOLDER,\n",
    "                           setup_csv_file=setup_csv_files[0],\n",
    "                           FOLDER_CSV_SAVE=FOLDER_CSV_SAVE,\n",
    "                           motorized=True,\n",
    "                           MAXRAD_FACTOR=0.56,\n",
    "                           fwzm_z=200.)\n",
    "AFRDImg.analyze_all_frames()"
   ]
  },
  {
   "cell_type": "code",
   "execution_count": null,
   "metadata": {},
   "outputs": [],
   "source": []
  },
  {
   "cell_type": "code",
   "execution_count": null,
   "metadata": {},
   "outputs": [],
   "source": []
  }
 ],
 "metadata": {
  "anaconda-cloud": {},
  "kernelspec": {
   "display_name": "Python [Root]",
   "language": "python",
   "name": "Python [Root]"
  },
  "language_info": {
   "codemirror_mode": {
    "name": "ipython",
    "version": 2
   },
   "file_extension": ".py",
   "mimetype": "text/x-python",
   "name": "python",
   "nbconvert_exporter": "python",
   "pygments_lexer": "ipython2",
   "version": "2.7.12"
  }
 },
 "nbformat": 4,
 "nbformat_minor": 2
}
