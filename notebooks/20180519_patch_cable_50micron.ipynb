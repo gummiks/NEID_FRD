{
 "cells": [
  {
   "cell_type": "code",
   "execution_count": 1,
   "metadata": {
    "collapsed": false,
    "deletable": true,
    "editable": true
   },
   "outputs": [
    {
     "name": "stdout",
     "output_type": "stream",
     "text": [
      "Already removed\n"
     ]
    }
   ],
   "source": [
    "from __future__ import print_function\n",
    "import pandas as pd\n",
    "import numpy as np\n",
    "import datetime\n",
    "import matplotlib.dates as mdates\n",
    "\n",
    "# ---------- Graphics ------------\n",
    "# matplotlib\n",
    "import seaborn as sns; sns.set()\n",
    "sns.set_context(\"poster\",font_scale=1.2,rc={\"font\":\"helvetica\"});\n",
    "sns.set_style(\"white\"); #sns.set_style(\"ticks\")\n",
    "cp = sns.color_palette(\"colorblind\") #sns.palplot(current_palette)\n",
    "%matplotlib inline\n",
    "%config InlineBackend.figure_format = \"retina\"\n",
    "import matplotlib.pyplot as plt\n",
    "from matplotlib import rcParams\n",
    "rcParams[\"savefig.dpi\"] = 100\n",
    "rcParams['mathtext.fontset'] = 'stix'\n",
    "rcParams['font.family'] = 'STIXGeneral'\n",
    "rcParams['font.weight'] = \"normal\"\n",
    "rcParams[\"axes.formatter.useoffset\"] = False\n",
    "rcParams['xtick.major.width']=1\n",
    "rcParams['xtick.major.size']=4\n",
    "rcParams['xtick.minor.width']=0.5\n",
    "rcParams['xtick.minor.size']=2\n",
    "rcParams['xtick.direction'] = \"in\"\n",
    "rcParams['ytick.direction'] = \"in\"\n",
    "rcParams['ytick.major.width']=1\n",
    "rcParams['ytick.major.size']=4\n",
    "rcParams['ytick.minor.width']=0.5\n",
    "rcParams['ytick.minor.size']=2\n",
    "\n",
    "import sys\n",
    "sys.path.append(\"../src/\")\n",
    "try:\n",
    "    sys.path.remove('/Users/gks/Dropbox/mypylib')\n",
    "    sys.path.remove('/Users/gks/Dropbox/mypylib/GIT')\n",
    "except Exception as e:\n",
    "    print('Already removed')"
   ]
  },
  {
   "cell_type": "code",
   "execution_count": 2,
   "metadata": {
    "collapsed": false,
    "deletable": true,
    "editable": true
   },
   "outputs": [],
   "source": [
    "import utils\n",
    "from frdimg import FRDImg, AnalyzeFRDImages\n",
    "from frdimg_help import add_y_in_input, resample_df_mean, resample_df_mean, get_EE_from_rad_in_pix"
   ]
  },
  {
   "cell_type": "code",
   "execution_count": 3,
   "metadata": {
    "collapsed": false,
    "deletable": true,
    "editable": true
   },
   "outputs": [],
   "source": [
    "import glob\n",
    "from utils import filter_dates\n",
    "import os\n",
    "\n",
    "# Folders\n",
    "BASEFOLDER       = \"C:\\\\Users\\\\szk381\\\\Downloads\\\\20180521_patch_circ2_50um_polished-20180602T140353Z-001\\\\20180521_patch_circ2_50um_polished\\\\\"\n",
    "FOLDER_CSV_SETUP = os.path.join(BASEFOLDER,\"ANALYSIS\",\"CSV_SETUP\\\\\")\n",
    "FOLDER_CSV_SAVE  = os.path.join(BASEFOLDER,\"ANALYSIS\",\"CSV_RESULTS\\\\\")\n",
    "PLOT_FOLDER      = os.path.join(BASEFOLDER,\"ANALYSIS\",\"PLOTS\\\\\")\n",
    "\n",
    "# Files\n",
    "setup_csv_files  = sorted(glob.glob(FOLDER_CSV_SETUP+\"*.csv\"))\n",
    "#fitsfiles_f01    = glob.glob(BASEFOLDER+\"f01/pipelineout/*.fits\")\n",
    "#fitsfiles_f02    = glob.glob(BASEFOLDER+\"f02/pipelineout/*.fits\")\n",
    "#fitsfiles_f03    = glob.glob(BASEFOLDER+\"f03/pipelineout/*.fits\")\n",
    "fitsfiles_f01    = glob.glob(BASEFOLDER+\"f01/*.fits\")\n",
    "#fitsfiles_f02    = glob.glob(BASEFOLDER+\"f02/*.fits\")\n",
    "#fitsfiles_f03    = glob.glob(BASEFOLDER+\"f03/*.fits\")\n",
    "#fitsfiles_f04    = glob.glob(BASEFOLDER+\"f04/*.fits\")\n",
    "#fitsfiles_f05    = glob.glob(BASEFOLDER+\"f05/*.fits\")\n",
    "#fitsfiles_f06    = glob.glob(BASEFOLDER+\"f06/*.fits\")\n",
    "#fitsfiles_f07    = glob.glob(BASEFOLDER+\"f07/*.fits\")\n",
    "#fitsfiles_f08    = glob.glob(BASEFOLDER+\"f08/*.fits\")\n",
    "#fitsfiles_f09    = glob.glob(BASEFOLDER+\"f09/*.fits\")\n",
    "#fitsfiles_f10    = glob.glob(BASEFOLDER+\"f10/*.fits\")"
   ]
  },
  {
   "cell_type": "code",
   "execution_count": 4,
   "metadata": {
    "collapsed": false,
    "deletable": true,
    "editable": true
   },
   "outputs": [
    {
     "data": {
      "text/plain": [
       "['C:\\\\Users\\\\szk381\\\\Downloads\\\\20180521_patch_circ2_50um_polished-20180602T140353Z-001\\\\20180521_patch_circ2_50um_polished\\\\ANALYSIS\\\\CSV_SETUP\\\\setup_f01.csv',\n",
       " 'C:\\\\Users\\\\szk381\\\\Downloads\\\\20180521_patch_circ2_50um_polished-20180602T140353Z-001\\\\20180521_patch_circ2_50um_polished\\\\ANALYSIS\\\\CSV_SETUP\\\\setup_f02.csv',\n",
       " 'C:\\\\Users\\\\szk381\\\\Downloads\\\\20180521_patch_circ2_50um_polished-20180602T140353Z-001\\\\20180521_patch_circ2_50um_polished\\\\ANALYSIS\\\\CSV_SETUP\\\\setup_f03.csv',\n",
       " 'C:\\\\Users\\\\szk381\\\\Downloads\\\\20180521_patch_circ2_50um_polished-20180602T140353Z-001\\\\20180521_patch_circ2_50um_polished\\\\ANALYSIS\\\\CSV_SETUP\\\\setup_f04.csv']"
      ]
     },
     "execution_count": 4,
     "metadata": {},
     "output_type": "execute_result"
    }
   ],
   "source": [
    "setup_csv_files"
   ]
  },
  {
   "cell_type": "code",
   "execution_count": 5,
   "metadata": {
    "collapsed": false
   },
   "outputs": [
    {
     "data": {
      "text/plain": [
       "'C:\\\\Users\\\\szk381\\\\Downloads\\\\20180521_patch_circ2_50um_polished-20180602T140353Z-001\\\\20180521_patch_circ2_50um_polished\\\\ANALYSIS\\\\CSV_SETUP\\\\'"
      ]
     },
     "execution_count": 5,
     "metadata": {},
     "output_type": "execute_result"
    }
   ],
   "source": [
    "FOLDER_CSV_SETUP"
   ]
  },
  {
   "cell_type": "code",
   "execution_count": null,
   "metadata": {
    "collapsed": true,
    "deletable": true,
    "editable": true
   },
   "outputs": [],
   "source": [
    "import matplotlib.pyplot as plt\n",
    "plt.switch_backend(\"agg\")\n",
    "fig, ax= plt.subplots()"
   ]
  },
  {
   "cell_type": "code",
   "execution_count": null,
   "metadata": {
    "collapsed": false,
    "deletable": true,
    "editable": true,
    "scrolled": true
   },
   "outputs": [
    {
     "name": "stdout",
     "output_type": "stream",
     "text": [
      "('aaaaaaaaaaaaaaaaaaaaaaaaaaaaaaaaaaaaaaaaaaaaaaaaaaaaaaaaaaaaaaaaaaa', 'C:\\\\Users\\\\szk381\\\\Downloads\\\\20180521_patch_circ2_50um_polished-20180602T140353Z-001\\\\20180521_patch_circ2_50um_polished\\\\ANALYSIS\\\\CSV_RESULTS\\\\')\n",
      "C:\\Users\\szk381\\Downloads\\20180521_patch_circ2_50um_polished-20180602T140353Z-001\\20180521_patch_circ2_50um_polished\\ANALYSIS\\CSV_RESULTS\\ already exists. Skipping\n",
      "Trimming problematic first row !\n",
      "('Analyzing file #', 0, 'C:\\\\Users\\\\szk381\\\\Downloads\\\\20180521_patch_circ2_50um_polished-20180602T140353Z-001\\\\20180521_patch_circ2_50um_polished\\\\f01\\\\f_psm_01_d_01.fits')\n",
      "C:\\Users\\szk381\\Downloads\\20180521_patch_circ2_50um_polished-20180602T140353Z-001\\20180521_patch_circ2_50um_polished\\ANALYSIS\\PLOTS\\ already exists. Skipping\n",
      "('Centroids', 498.8688740127232, 472.3508055121418)\n",
      "Subtracted min value: -92.60066579709155\n",
      "Using azimuthal averaging\n",
      "Calculating radial data\n",
      "Calculating radial data using centroid: 498.877744929715 472.3391997619445\n"
     ]
    }
   ],
   "source": [
    "AFRDImg = AnalyzeFRDImages(fitsfiles=sorted(fitsfiles_f01)[0:2],\n",
    "                           plot_suffix=\"f01\",\n",
    "                           plot_folder=PLOT_FOLDER,\n",
    "                           setup_csv_file=setup_csv_files[0],\n",
    "                           FOLDER_CSV_SAVE=FOLDER_CSV_SAVE,\n",
    "                           motorized=True,\n",
    "                           MAXRAD_FACTOR=0.56,\n",
    "                           fwzm_z=200.)\n",
    "AFRDImg.analyze_all_frames()"
   ]
  },
  {
   "cell_type": "code",
   "execution_count": null,
   "metadata": {
    "collapsed": true,
    "deletable": true,
    "editable": true
   },
   "outputs": [],
   "source": []
  },
  {
   "cell_type": "code",
   "execution_count": null,
   "metadata": {
    "collapsed": true,
    "deletable": true,
    "editable": true
   },
   "outputs": [],
   "source": []
  }
 ],
 "metadata": {
  "anaconda-cloud": {},
  "kernelspec": {
   "display_name": "Python 2",
   "language": "python",
   "name": "python2"
  },
  "language_info": {
   "codemirror_mode": {
    "name": "ipython",
    "version": 2
   },
   "file_extension": ".py",
   "mimetype": "text/x-python",
   "name": "python",
   "nbconvert_exporter": "python",
   "pygments_lexer": "ipython2",
   "version": "2.7.13"
  }
 },
 "nbformat": 4,
 "nbformat_minor": 2
}
